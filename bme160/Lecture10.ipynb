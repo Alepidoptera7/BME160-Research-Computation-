{
 "cells": [
  {
   "cell_type": "markdown",
   "metadata": {
    "slideshow": {
     "slide_type": "slide"
    }
   },
   "source": [
    "# Research Programming in the Life Sciences\n",
    "## Advanced Data Structures and Scientific Computing \n",
    "\n",
    "- David L. Bernick, PhD\n",
    "- Biomolecular Engineering\n",
    "- Baskin School of Engineering\n",
    "- UCSC"
   ]
  },
  {
   "cell_type": "markdown",
   "metadata": {
    "slideshow": {
     "slide_type": "slide"
    }
   },
   "source": [
    "# Homework\n",
    " \n",
    "## Reading\n",
    " - Functions (and methods) - Model Ch 2. pp 24-29\n",
    " - Modules - Model Ch 2.  pp 34-41, 44\n",
    " - Namespaces - Model Ch 2. pp 21-22, 27, 34-37\n",
    " - Scipy documentation http://docs.scipy.org/doc/scipy/reference/stats.html\n",
    " \n",
    "## Lab\n",
    " - Lab 5 is posted\n",
    " - Project Abstracts due on Friday\n",
    " - submit in “assignments” section of Canvas"
   ]
  },
  {
   "cell_type": "markdown",
   "metadata": {},
   "source": [
    "# Quiz 4\n",
    "\n",
    " - Q3: functions must have at least one parameter?  \n",
    " - Q4: the same name used in different namespaces is never assigned to the same object\n",
    " - Q10: What is Cusp used for?"
   ]
  },
  {
   "cell_type": "code",
   "execution_count": 2,
   "metadata": {
    "slideshow": {
     "slide_type": "slide"
    }
   },
   "outputs": [
    {
     "data": {
      "image/png": "[encoded data removed]",
      "text/plain": [
       "<Figure size 432x288 with 1 Axes>"
      ]
     },
     "metadata": {
      "needs_background": "light"
     },
     "output_type": "display_data"
    }
   ],
   "source": [
    "import matplotlib.pyplot as plt\n",
    "x = [i for i in range(3,11)]\n",
    "y = [1,0,2,6,9,23,16,11]\n",
    "plt.bar(x,y,0.2)\n",
    "plt.xlabel('Scores', fontsize=18)\n",
    "plt.title('Quiz 4 results',fontsize=18)\n",
    "plt.figtext(.3,0.7,'mean=78%', fontsize=18, ha='center')\n",
    "plt.show()"
   ]
  },
  {
   "cell_type": "markdown",
   "metadata": {
    "slideshow": {
     "slide_type": "slide"
    }
   },
   "source": [
    "# Overview\n",
    " - High throughput data\n",
    " - Advanced Data structures\n",
    " - Statistics and Scientific computing"
   ]
  },
  {
   "cell_type": "markdown",
   "metadata": {
    "slideshow": {
     "slide_type": "slide"
    }
   },
   "source": [
    "# High Throughput Data\n",
    " - Microarrays\n",
    " - Sequencers\n",
    "     - Genome sequencing\n",
    "     - RNA-seq\n",
    "     - ChIP-seq\n",
    "     - Metagenomics\n",
    " - SNP chips"
   ]
  },
  {
   "cell_type": "markdown",
   "metadata": {
    "slideshow": {
     "slide_type": "slide"
    }
   },
   "source": [
    "# Microarrays: Overview\n",
    "Multiplexed assay that quantifies the amounts of thousands of biomolecules present in a sample\n",
    " - measures multiple molecules at same time\n",
    " - functional view of biological activity within sample\n",
    " - cells, tissues (blood, skin, muscle), organs\n",
    " \n",
    "Techniques developed for examining:\n",
    " - DNA\n",
    " - RNA \n",
    " - proteins \n",
    " - lipids\n",
    " "
   ]
  },
  {
   "cell_type": "markdown",
   "metadata": {
    "slideshow": {
     "slide_type": "slide"
    }
   },
   "source": [
    "# Microarrays: Steps\n",
    " - Obtain microarray chip containing probe molecules\n",
    " - Extract mRNA from cells in sample\n",
    " - Convert mRNA to cDNA\n",
    " - Apply cDNA mixture to chip and allow to hybridize\n",
    " - Scan chip with multicolor laser\n",
    " - Quantify fluorescent intensity of colors\n",
    " - What are the experimental concerns?\n",
    "\n",
    "http://www.bio.davidson.edu/Courses/genomics/chip/chip.html\n"
   ]
  },
  {
   "cell_type": "markdown",
   "metadata": {
    "slideshow": {
     "slide_type": "slide"
    }
   },
   "source": [
    "# Introduction to DNA Microarrays\n",
    "![MicroArrays](Lecture10arrays.png)"
   ]
  },
  {
   "cell_type": "markdown",
   "metadata": {
    "slideshow": {
     "slide_type": "slide"
    }
   },
   "source": [
    "# Motivation\n",
    " - Suppose you are studying a strain of heat resistant bacteria, and want to find the genes that are responsible for that heat resistance phenotype\n",
    " - You want to find the genes the bacteria express at higher levels when exposed to heat\n",
    " - You have two samples of bacteria, one exposed to heat and one not\n",
    " - You use a green (no heat) and red (heat) spotted array to measure the expression levels of the genes in the bacteria’s genome"
   ]
  },
  {
   "cell_type": "markdown",
   "metadata": {
    "slideshow": {
     "slide_type": "slide"
    }
   },
   "source": [
    "# Hybridizing Microarrays\n",
    "![Hybridizing](Lecture10Hybridizing.png)"
   ]
  },
  {
   "cell_type": "markdown",
   "metadata": {
    "slideshow": {
     "slide_type": "slide"
    }
   },
   "source": [
    "# One Chip = 1 Array of Data\n",
    "## Heat exposed vs. not heat exposed cells\n",
    "![Spots to Data](Lecture10spot2data.png)"
   ]
  },
  {
   "cell_type": "markdown",
   "metadata": {
    "slideshow": {
     "slide_type": "slide"
    }
   },
   "source": [
    "# Hybridizing Microarrays\n",
    "![Heat and Growth](Lecture10heatMulti.png)"
   ]
  },
  {
   "cell_type": "markdown",
   "metadata": {
    "slideshow": {
     "slide_type": "slide"
    }
   },
   "source": [
    "# DNA Microarrays\n",
    "Arrange expression data across multiple experiments in a heat map.\n",
    "![heat map](Lecture10heatMap.png)"
   ]
  },
  {
   "cell_type": "markdown",
   "metadata": {
    "slideshow": {
     "slide_type": "slide"
    }
   },
   "source": [
    "# Current Generation of μArrays\n",
    "Whole Genome Direct Hybridization (Illumina)\n",
    "![bead array](Lecture10beadArray.png)"
   ]
  },
  {
   "cell_type": "markdown",
   "metadata": {
    "slideshow": {
     "slide_type": "slide"
    }
   },
   "source": [
    "# Microarray Data File\n",
    " - The data from a microarray run will be stored in a tab-delimited file \n",
    "     - in Python, '\\t' is a tab\n",
    "![data file](Lecture10uArrayData.png)"
   ]
  },
  {
   "cell_type": "markdown",
   "metadata": {
    "slideshow": {
     "slide_type": "slide"
    }
   },
   "source": [
    "# Loading Data into a 2D Array\n",
    "![data matrix](Lecture10uDataMatrix.png)"
   ]
  },
  {
   "cell_type": "code",
   "execution_count": null,
   "metadata": {
    "slideshow": {
     "slide_type": "fragment"
    }
   },
   "outputs": [],
   "source": [
    "# define input filename\n",
    "fileName = 'arrayDataV1.txt'\n",
    "# create empty list, represents rows\n",
    "inputArray = []\n",
    "# open file and go through each line, i.e. rows\n",
    "with open(fileName) as fh:\n",
    "    for line in fh:\n",
    "        # split line into columns and append to array\n",
    "        arrayCols = line.rstrip().split('\\t')\n",
    "        inputArray.append(arrayCols)\n",
    "for line in inputArray:\n",
    "    print ( line )\n"
   ]
  },
  {
   "cell_type": "markdown",
   "metadata": {
    "slideshow": {
     "slide_type": "slide"
    }
   },
   "source": [
    "# Loading Data in practice\n",
    " - Load data that has:\n",
    "     - a header line\n",
    "     - accounts for row labels\n",
    "     - make sure data is float\n",
    "![data matrix](Lecture10uDataMatrix.png)    "
   ]
  },
  {
   "cell_type": "code",
   "execution_count": null,
   "metadata": {
    "slideshow": {
     "slide_type": "fragment"
    }
   },
   "outputs": [],
   "source": [
    "# define input filename\n",
    "fileName = 'arrayDataV1.txt'\n",
    "# create empty list, represents rows\n",
    "inputArray = []\n",
    "# open file and go through each line, i.e. rows\n",
    "with open(fileName) as fh:\n",
    "    comment = fh.readline().rstrip()\n",
    "    headerLine = fh.readline().rstrip()\n",
    "    header = headerLine.split('\\t')\n",
    "    for line in fh:\n",
    "        # split line into columns and append to array\n",
    "        arrayCols = line.rstrip().split('\\t')\n",
    "        inputArray.append(arrayCols)\n",
    "    for colHead in header:\n",
    "        print ('{}\\t'.format(colHead), end = '')\n",
    "    print ()\n",
    "    for l in inputArray:\n",
    "        print ('{}--\\t'.format(l[0]), end = '')\n",
    "        for data in l[1:]:\n",
    "            print ('{}\\t'.format(data), end = '')\n",
    "        print ()"
   ]
  },
  {
   "cell_type": "markdown",
   "metadata": {
    "slideshow": {
     "slide_type": "slide"
    }
   },
   "source": [
    "# 454 and SOLiD Sequencing\n",
    "![454SOLiD](Lecture10454SOLiD.png)"
   ]
  },
  {
   "cell_type": "markdown",
   "metadata": {
    "slideshow": {
     "slide_type": "slide"
    }
   },
   "source": [
    "# Illumina sequencing\n",
    "![Illumina](Lecture10Illumina.png)\n",
    " - HiSeq 2500\n",
    " - 2 x 150bp reads\n",
    " - 3B paired reads\n",
    " - 11 day runtime\n",
    " - 90% bases > Q30\n",
    "\n",
    "\n",
    "180M read-pairs =~ $2500 "
   ]
  },
  {
   "cell_type": "markdown",
   "metadata": {
    "slideshow": {
     "slide_type": "slide"
    }
   },
   "source": [
    "# Sequencing Data"
   ]
  },
  {
   "cell_type": "code",
   "execution_count": null,
   "metadata": {
    "slideshow": {
     "slide_type": "fragment"
    }
   },
   "outputs": [],
   "source": [
    "@DJB775P1:392:D1R59ACXX:3:1101:1122:2040 1:N:0:\n",
    "NACATGGGCGACGAGCATCCGATCGACGAGTCAGCCATCGAAGCCGCAGCCGAACCAATCGATGGCGAGGCCCTCGCGNNTCTCTCGNNNNNCNNNNNNN\n",
    "+\n",
    "#1=DDDDFHGHHFHJJJIJJJJJJGIJJJICHIJIJHFHHFFFDDDBDBDDBB<<BDD>C@DDABDDDDDDDDBDDD#######################\n",
    "@DJB775P1:392:D1R59ACXX:3:1101:1190:2041 1:N:0:\n",
    "NAAAAACATGTAGCAGTTCGGCTCTGCTTGTGCAGACGCTTGCTACCTGCGAGTTCTCACTCCGGATTCAGTCTCCCGNNCTCAAAGNNACCGCCCCTTN\n",
    "+\n",
    "#1=BDFFFHHFHHJIJJIJJHJJIIJJJJJJIIJJJJJJGJJJIIJJEFHJIJADGGGHHGFHFFDCDEDDEDDDCDD##,5<?BDC##++8?@DDDBD#"
   ]
  },
  {
   "cell_type": "markdown",
   "metadata": {
    "slideshow": {
     "slide_type": "slide"
    }
   },
   "source": [
    "# RNA-seq\n",
    "![RNA sequencing](Lecture10RNAseq.pdf)\n",
    " - Overview\n",
    "     - fragment RNA\n",
    "     - synthesize cDNA\n",
    "     - add adapters\n",
    "     - amplify"
   ]
  },
  {
   "cell_type": "markdown",
   "metadata": {
    "slideshow": {
     "slide_type": "slide"
    }
   },
   "source": [
    "# RNA-seq analysis\n",
    " - each sample\n",
    "     - map reads to features\n",
    "     - count\n",
    "     - normalize\n",
    " - replicates\n",
    "     - mean, variance normalized counts\n",
    "     - t-test for significance\n",
    "     - bonferroni or FDR correction\n",
    "     \n",
    "http://docs.scipy.org/doc/"
   ]
  },
  {
   "cell_type": "markdown",
   "metadata": {
    "slideshow": {
     "slide_type": "slide"
    }
   },
   "source": [
    "# Advanced Data Structures\n",
    " - Lists of lists\n",
    " - Arrays (numpy)\n",
    " - Dictionaries of lists, tuples\n",
    " - Dictionaries of dictionaries"
   ]
  },
  {
   "cell_type": "markdown",
   "metadata": {
    "slideshow": {
     "slide_type": "slide"
    }
   },
   "source": [
    "# Arrays in Numpy"
   ]
  },
  {
   "cell_type": "code",
   "execution_count": null,
   "metadata": {
    "slideshow": {
     "slide_type": "fragment"
    }
   },
   "outputs": [],
   "source": [
    "import numpy\n",
    "numpy.array()    # define array\n",
    "numpy.loadtxt()  # input data array\n",
    "\n",
    "loadtxt(fname, dtype=<type 'float'>, comments='#', delimiter=None, \n",
    "        converters=None, skiprows=0, usecols=None, unpack=False)"
   ]
  },
  {
   "cell_type": "code",
   "execution_count": null,
   "metadata": {},
   "outputs": [],
   "source": [
    "import numpy as np\n",
    "\n",
    "newArray = np.loadtxt(fname='arrayDataV1.txt', delimiter = '\\t', skiprows=2)\n",
    "print (newArray)\n"
   ]
  },
  {
   "cell_type": "markdown",
   "metadata": {
    "slideshow": {
     "slide_type": "slide"
    }
   },
   "source": [
    "# Lists\n",
    "We have seen lists and tuples\n",
    "\n",
    "## Example:"
   ]
  },
  {
   "cell_type": "code",
   "execution_count": null,
   "metadata": {
    "slideshow": {
     "slide_type": "fragment"
    }
   },
   "outputs": [],
   "source": [
    "myTuple = ( 1, 2, 3 )  # tuple\n",
    "myList = [ 1, 2, 3 ]      # list\n",
    "# list modification \n",
    "myList.append (4)\n",
    "print (myList)\n",
    "myList [2] = 17\n",
    "print (myList)"
   ]
  },
  {
   "cell_type": "markdown",
   "metadata": {
    "slideshow": {
     "slide_type": "slide"
    }
   },
   "source": [
    "# Lists\n",
    " - Lists are generalized containers of objects\n",
    " - We can make a list of lists "
   ]
  },
  {
   "cell_type": "code",
   "execution_count": null,
   "metadata": {
    "slideshow": {
     "slide_type": "fragment"
    }
   },
   "outputs": [],
   "source": [
    "theScoreList = [  ['Andy', 82, 91, 88 ],\n",
    "                  ['Dennis', 81, 92, 87 ]  ]\n",
    "theScoreList.append ( [ 'David', 47, 53, 21 ] )"
   ]
  },
  {
   "cell_type": "markdown",
   "metadata": {
    "slideshow": {
     "slide_type": "fragment"
    }
   },
   "source": [
    "we can index the list using:"
   ]
  },
  {
   "cell_type": "code",
   "execution_count": null,
   "metadata": {
    "slideshow": {
     "slide_type": "fragment"
    }
   },
   "outputs": [],
   "source": [
    "print (theScoreList [2][0])"
   ]
  },
  {
   "cell_type": "markdown",
   "metadata": {
    "slideshow": {
     "slide_type": "slide"
    }
   },
   "source": [
    "# List Comprehension\n",
    "This is a Python shorthand for generating a list"
   ]
  },
  {
   "cell_type": "code",
   "execution_count": null,
   "metadata": {
    "slideshow": {
     "slide_type": "fragment"
    }
   },
   "outputs": [],
   "source": [
    "seq = 'ACGTACGTACGTACGT'\n",
    "codonList = [ seq[p:p+3] for p in range(0, len(seq), 3) ]\n",
    "print (codonList)"
   ]
  },
  {
   "cell_type": "markdown",
   "metadata": {
    "slideshow": {
     "slide_type": "slide"
    }
   },
   "source": [
    "# Dictionary of lists"
   ]
  },
  {
   "cell_type": "code",
   "execution_count": null,
   "metadata": {
    "slideshow": {
     "slide_type": "fragment"
    }
   },
   "outputs": [],
   "source": [
    "theScores = { 'Andy' : [82, 91, 88 ],\n",
    "              'Dennis' :   [81, 92, 87 ]  }\n",
    "theScores ['David'] = [ 47, 53, 21 ] "
   ]
  },
  {
   "cell_type": "markdown",
   "metadata": {
    "slideshow": {
     "slide_type": "fragment"
    }
   },
   "source": [
    "and index with:"
   ]
  },
  {
   "cell_type": "code",
   "execution_count": null,
   "metadata": {
    "slideshow": {
     "slide_type": "fragment"
    }
   },
   "outputs": [],
   "source": [
    "print (theScores ['David'])"
   ]
  },
  {
   "cell_type": "markdown",
   "metadata": {
    "slideshow": {
     "slide_type": "slide"
    }
   },
   "source": [
    "# List of lists\n",
    "List of codons, organized by frame\n",
    "\n",
    "Note:  this is a list of lists"
   ]
  },
  {
   "cell_type": "code",
   "execution_count": null,
   "metadata": {
    "slideshow": {
     "slide_type": "fragment"
    }
   },
   "outputs": [],
   "source": [
    "frame = 1\n",
    "codonList = [ [], [], [] ]                   # initialize\n",
    "codonList [frame] = [ 23, 35, 46 ] \n",
    "codonList [frame].append (57)\n",
    "codonList [frame] = []\n",
    "# Sorting lists using fields\n",
    "myOutList = [  ['Andy', 82, 91, 88 ],\n",
    "               ['Dennis', 81, 92, 87 ] ,\n",
    "               ['David', 47, 53, 21] ]\n",
    "\n",
    "myOutList.sort (key= lambda entry: sum(entry[1:4]), reverse=True)\n",
    "print (myOutList)\n"
   ]
  },
  {
   "cell_type": "markdown",
   "metadata": {
    "slideshow": {
     "slide_type": "slide"
    }
   },
   "source": [
    "# Dictionary of dictionaries\n",
    "3 level dictionary"
   ]
  },
  {
   "cell_type": "code",
   "execution_count": null,
   "metadata": {
    "slideshow": {
     "slide_type": "fragment"
    }
   },
   "outputs": [],
   "source": [
    "codonTable = {'G':\n",
    "              {'G':\n",
    "                 {'G': 'Gly', 'A': 'Gly', 'C': 'Gly', 'U': 'Gly'},\n",
    "              'A':\n",
    "                 {'G': 'Glu', 'A': 'Glu', 'C': 'Asp', 'U': 'Asp'},\n",
    "              'C':\n",
    "                 {'G': 'Ala', 'A': 'Ala', 'C': 'Ala', 'U': 'Ala'},\n",
    "              'U':\n",
    "                 {'G': 'Val', 'A': 'Val', 'C': 'Val', 'U': 'Val'}\n",
    "              },\n",
    "            'A':\n",
    "              {'G':\n",
    "                 {'G': 'Arg', 'A': 'Arg', 'C': 'Ser', 'U': 'Ser'},\n",
    "              'A':\n",
    "                 {'G': 'Lys', 'A': 'Lys', 'C': 'Asn', 'U': 'Asn'},\n",
    "              'C':\n",
    "                 {'G': 'Thr', 'A': 'Thr', 'C': 'Thr', 'U': 'Thr'},\n",
    "              'U':\n",
    "                 {'G': 'Met', 'A': 'Ile', 'C': 'Ile', 'U': 'Ile'}\n",
    "               },\n",
    "            'C':\n",
    "              {'G':\n",
    "                 {'G': 'Arg', 'A': 'Arg', 'C': 'Arg', 'U': 'Arg'},\n",
    "              'A':\n",
    "                 {'G': 'Gln', 'A': 'Gln', 'C': 'His', 'U': 'His'},\n",
    "              'C':\n",
    "                 {'G': 'Pro', 'A': 'Pro', 'C': 'Pro', 'U': 'Pro'},\n",
    "              'U':\n",
    "                 {'G': 'Leu', 'A': 'Leu', 'C': 'Leu', 'U': 'Leu'}},\n",
    "            'U':\n",
    "              {'G':\n",
    "                 {'G': 'Trp', 'A': '---', 'C': 'Cys', 'U': 'Cys'},\n",
    "              'A':\n",
    "                 {'G': '---', 'A': '---', 'C': 'Tyr', 'U': 'Tyr'},\n",
    "              'C':\n",
    "                 {'G': 'Ser', 'A': 'Ser', 'C': 'Ser', 'U': 'Ser'},\n",
    "              'U':\n",
    "                 {'G': 'Leu', 'A': 'Leu', 'C': 'Phe', 'U': 'Phe'}}\n",
    "            }\n",
    "print (codonTable['G']['G']['G'])"
   ]
  },
  {
   "cell_type": "markdown",
   "metadata": {
    "slideshow": {
     "slide_type": "slide"
    }
   },
   "source": [
    "# Statistics Outline\n",
    " - Loose Definition:\n",
    "     - Set of mathematical operations/calculations used to describe and interpret data\n",
    " - Where/How Used:\n",
    "     - Design of experiments and surveys\n",
    "     - Modeling or predicting trends/outcomes using data\n",
    " - Types:\n",
    "     - Descriptive – summarize data\n",
    "     - Inferential – model or predict based on data"
   ]
  },
  {
   "cell_type": "markdown",
   "metadata": {
    "slideshow": {
     "slide_type": "slide"
    }
   },
   "source": [
    "# Describing Central Tendency\n",
    " - Arithmetic Mean $$\\mu = \\frac{1}{n}\\sum_{i=0}^{n-1}x_{i}$$\n",
    " "
   ]
  },
  {
   "cell_type": "code",
   "execution_count": null,
   "metadata": {
    "slideshow": {
     "slide_type": "fragment"
    }
   },
   "outputs": [],
   "source": [
    "mean = sum(x) / len(x)"
   ]
  },
  {
   "cell_type": "markdown",
   "metadata": {
    "slideshow": {
     "slide_type": "fragment"
    }
   },
   "source": [
    " - Geometric Mean $$\\mu = \\left(\\prod_{i=0}^{n-1}x_{i}\\right)^\\frac{1}{n}$$\n",
    " "
   ]
  },
  {
   "cell_type": "code",
   "execution_count": null,
   "metadata": {
    "slideshow": {
     "slide_type": "fragment"
    }
   },
   "outputs": [],
   "source": [
    "fib=[1,1,2,3,5,8,13,21,34,55]\n",
    "def prod(L): \n",
    "    p=1 \n",
    "    for i in L: \n",
    "        p *= i \n",
    "    return p\n",
    "mean = prod(fib) ** (1/len(fib))\n",
    "print (mean)"
   ]
  },
  {
   "cell_type": "markdown",
   "metadata": {
    "slideshow": {
     "slide_type": "fragment"
    }
   },
   "source": [
    " - Median\n",
    "     - Central value in a dataset"
   ]
  },
  {
   "cell_type": "markdown",
   "metadata": {
    "slideshow": {
     "slide_type": "slide"
    }
   },
   "source": [
    "# Median\n",
    "The value of the middle number\n",
    "\n",
    "To identify the median, you need to have a sorted list of numbers\n",
    "\n",
    "Does the following code work in general?"
   ]
  },
  {
   "cell_type": "code",
   "execution_count": null,
   "metadata": {
    "slideshow": {
     "slide_type": "fragment"
    }
   },
   "outputs": [],
   "source": [
    "x = [5, 4, 3, 2, 1]\n",
    "x.sort()\n",
    "mid = len(x)//2\n",
    "median = x[mid]\n",
    "print (median)"
   ]
  },
  {
   "cell_type": "code",
   "execution_count": null,
   "metadata": {
    "slideshow": {
     "slide_type": "fragment"
    }
   },
   "outputs": [],
   "source": [
    "x = [5, 4, 3,7, 2, 1]\n",
    "x.sort()\n",
    "mid = len(x)//2\n",
    "if len(x) % 2 == 0:\n",
    "    median = (x[mid] + x[mid-1]) / 2.\n",
    "else:\n",
    "    median = x[mid]\n",
    "print (median)"
   ]
  },
  {
   "cell_type": "markdown",
   "metadata": {
    "slideshow": {
     "slide_type": "slide"
    }
   },
   "source": [
    "# Describing Spread of Data\n",
    " - Variance\n",
    "$$ \\sigma^{2} = \\frac{1}{n-1}\\sum_{i=0}^{n-1}(x_{i}-\\mu)^{2} $$\n",
    " - Standard Deviation\n",
    "$$ \\sigma = \\sqrt{\\sigma^{2}} $$"
   ]
  },
  {
   "cell_type": "markdown",
   "metadata": {
    "slideshow": {
     "slide_type": "slide"
    }
   },
   "source": [
    "# T-statistic\n",
    "$$ t = \\frac{\\mu-\\mu_{0}}{\\sigma/\\sqrt{n}} $$"
   ]
  },
  {
   "cell_type": "markdown",
   "metadata": {
    "slideshow": {
     "slide_type": "slide"
    }
   },
   "source": [
    "# SciComp Modules in Python\n",
    " - Scipy - scientific python\n",
    " - Numpy - numeric python"
   ]
  },
  {
   "cell_type": "code",
   "execution_count": null,
   "metadata": {
    "slideshow": {
     "slide_type": "fragment"
    }
   },
   "outputs": [],
   "source": [
    "import scipy\n",
    "import numpy\n",
    "from scipy import stats\n",
    "scipy.mean()\n",
    "scipy.median()\n",
    "scipy.std()\n",
    "stats.ttest_ind()\n",
    "stats.chisquare()\n",
    "numpy.array()\n",
    "..."
   ]
  },
  {
   "cell_type": "code",
   "execution_count": 1,
   "metadata": {},
   "outputs": [],
   "source": [
    "class CommandLine():\n",
    "    def __init__(self, inOpts=None):\n",
    "        '''\n",
    "        CommandLine constructor.\n",
    "        Implements a parser to interpret the command line argv string using argparse.\n",
    "        '''\n",
    "\n",
    "        import argparse\n",
    "        self.parser = argparse.ArgumentParser(\n",
    "            description='orfFinder',\n",
    "            epilog='',\n",
    "            add_help=True,  # default is True\n",
    "            prefix_chars='-',\n",
    "            usage='%(prog)s [options] -option1[default] <input >output'\n",
    "            )\n",
    "\n",
    "        self.parser.add_argument('-lG', '--longestGene', action='store', nargs='?', const=True, default=False,\n",
    "                                 help='longest Gene in an ORF')\n",
    "        self.parser.add_argument('-mG', '--minGene', type=int, action='store',\n",
    "                                 default = 100, help='minimum Gene length')\n",
    "        self.parser.add_argument('-s', '--start', action='append', nargs='?', default = ['ATG'], help='start Codon')  # allows multiple list options\n",
    "        self.parser.add_argument('-v', '--version', action='version', version='%(prog)s 0.1')\n",
    "        if inOpts is None:\n",
    "            self.args = self.parser.parse_args()\n",
    "        else:\n",
    "            self.args = self.parser.parse_args(inOpts)\n",
    "\n",
    "        print (self.args)"
   ]
  },
  {
   "cell_type": "code",
   "execution_count": 21,
   "metadata": {},
   "outputs": [],
   "source": [
    "class CommandLine() :\n",
    "    '''\n",
    "    Handle the command line, usage and help requests.\n",
    "\n",
    "    CommandLine uses argparse, now standard in 2.7 and beyond.\n",
    "    it implements a standard command line argument parser with various argument options,\n",
    "    a standard usage and help.\n",
    "    \n",
    "    attributes:\n",
    "    all arguments received from the commandline using .add_argument will be\n",
    "    available within the .args attribute of object instantiated from CommandLine.\n",
    "    For example, if myCommandLine is an object of the class, and requiredbool was\n",
    "    set as an option using add_argument, then myCommandLine.args.requiredbool will\n",
    "    name that option.\n",
    "    '''\n",
    "    def __init__(self, inOpts=None) :\n",
    "        '''\n",
    "        Implement a parser to interpret the command line argv string using argparse.\n",
    "        '''\n",
    "        import argparse\n",
    "\n",
    "        self.parser = argparse.ArgumentParser(description = 'Program prolog - a brief description of what this thing does',\n",
    "                epilog = 'Program epilog - some other stuff you feel compelled to say',\n",
    "                add_help = True, #default is True\n",
    "                prefix_chars = '-',\n",
    "                usage = '%(prog)s [options] -option1[default] <input >output')\n",
    "        self.parser.add_argument('inFile', action = 'store', help='input file name')\n",
    "        self.parser.add_argument('outFile', action = 'store', help='output file name')\n",
    "        self.parser.add_argument('-lG', '--longestGene', action = 'store', nargs='?', const=True, default=False, help='longest Gene in an ORF')\n",
    "        self.parser.add_argument('-mG', '--minGene', type=int, choices = (100,200,300,500,1000), default=100, action = 'store', help='minimum Gene length')\n",
    "        self.parser.add_argument('-s', '--start', action = 'append', default = ['ATG'],nargs='?', help='start Codon') #allows multiple list options\n",
    "        self.parser.add_argument('-t', '--stop', action = 'append', default = ['TAG','TGA','TAA'],nargs='?', help='stop Codon') #allows multiple list options\n",
    "        self.parser.add_argument('-v', '--version', action='version', version='%(prog)s 0.1')\n",
    "        if inOpts is None :\n",
    "            self.args = self.parser.parse_args()\n",
    "        else :\n",
    "            self.args = self.parser.parse_args(inOpts)"
   ]
  },
  {
   "cell_type": "code",
   "execution_count": 27,
   "metadata": {
    "slideshow": {
     "slide_type": "slide"
    }
   },
   "outputs": [],
   "source": [
    "\n",
    "def main(inCL=None):\n",
    "    '''\n",
    "    Find some genes.\n",
    "    '''\n",
    "    if inCL is None:\n",
    "        myCommandLine = CommandLine()\n",
    "    else :\n",
    "        myCommandLine = CommandLine(inCL)\n",
    "        \n",
    "    print (myCommandLine.args.longestGene)\n",
    "    \n",
    "    \n",
    "    ###### replace the code between comments.\n",
    "    # myCommandLine.args.inFile has the input file name\n",
    "    # myCommandLine.args.outFile has the output file name\n",
    "    # myCommandLine.args.longestGene is True if only the longest Gene is desired\n",
    "    # myCommandLine.args.start is a list of start codons\n",
    "    # myCommandLine.args.minGene is the minimum Gene length to include\n",
    "    #\n",
    "    #######"
   ]
  },
  {
   "cell_type": "code",
   "execution_count": 28,
   "metadata": {},
   "outputs": [
    {
     "name": "stdout",
     "output_type": "stream",
     "text": [
      "True\n"
     ]
    }
   ],
   "source": [
    "if __name__ == \"__main__\":\n",
    "    main([ 'tass2.fa','tass2ORFdata-ATG-100.txt','--longestGene'])"
   ]
  },
  {
   "cell_type": "code",
   "execution_count": null,
   "metadata": {},
   "outputs": [],
   "source": []
  }
 ],
 "metadata": {
  "celltoolbar": "Slideshow",
  "kernelspec": {
   "display_name": "Python 3",
   "language": "python",
   "name": "python3"
  },
  "language_info": {
   "codemirror_mode": {
    "name": "ipython",
    "version": 3
   },
   "file_extension": ".py",
   "mimetype": "text/x-python",
   "name": "python",
   "nbconvert_exporter": "python",
   "pygments_lexer": "ipython3",
   "version": "3.7.6"
  }
 },
 "nbformat": 4,
 "nbformat_minor": 2
}
