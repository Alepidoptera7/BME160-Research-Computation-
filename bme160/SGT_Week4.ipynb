{
 "cells": [
  {
   "cell_type": "markdown",
   "metadata": {},
   "source": [
    "# SGT Week 4\n",
    "\n",
    "Today we have the following goals for the fourth week of the course.\n",
    "1. Learn about how to create functions and understand thier namespace\n",
    "2. Using imports from other classes.\n",
    "\n",
    "## Warm Up\n",
    "I have a DNA sequence:\n",
    "\n",
    "AATGGCTTTAAGGC\n",
    "\n",
    "make a function that called **NucCount** that can count how many A, C, G, and U's are in this sequence."
   ]
  },
  {
   "cell_type": "code",
   "execution_count": null,
   "metadata": {},
   "outputs": [],
   "source": [
    "RNACountTable = {\n",
    "    'A': 0, 'C': 0, 'G': 0, 'U': 0\n",
    "}\n",
    "\n",
    "\n",
    "\n",
    "def NucCount(sequence):\n",
    "    # Your code\n",
    "    pass\n",
    "\n",
    "print(NucCount('AATGGCTTTAAGGC'))"
   ]
  },
  {
   "cell_type": "markdown",
   "metadata": {},
   "source": [
    "With the same sequence\n",
    "make a function called **Codon** that can count all the possible codons."
   ]
  },
  {
   "cell_type": "code",
   "execution_count": null,
   "metadata": {},
   "outputs": [],
   "source": [
    "RNACodonTable = {\n",
    "    'AAA': 0, 'ACA': 0, 'AGA': 0, 'AUA': 0,\n",
    "    'AAC': 0, 'ACC': 0, 'AGC': 0, 'AUC': 0,\n",
    "    'AAG': 0, 'ACG': 0, 'AGG': 0, 'AUG': 0,\n",
    "    'AAU': 0, 'ACU': 0, 'AGU': 0, 'AUU': 0,\n",
    "    \n",
    "    'CAA': 0, 'CCA': 0, 'CGA': 0, 'CUA': 0,\n",
    "    'CAC': 0, 'CCC': 0, 'CGC': 0, 'CUC': 0,\n",
    "    'CAG': 0, 'CCG': 0, 'CGG': 0, 'CUG': 0,\n",
    "    'CAT': 0, 'CCU': 0, 'CGU': 0, 'CUU': 0,\n",
    "    \n",
    "    'GAA': 0, 'GCA': 0, 'GGA': 0, 'GUA': 0,\n",
    "    'GAC': 0, 'GCC': 0, 'GGC': 0, 'GUC': 0,\n",
    "    'GAG': 0, 'GCG': 0, 'GGG': 0, 'GUG': 0,\n",
    "    'GAT': 0, 'GCU': 0, 'GGU': 0, 'GUU': 0,\n",
    "    \n",
    "    'UAA': 0, 'UCA': 0, 'UGA': 0, 'UUA': 0,\n",
    "    'UAC': 0, 'UCC': 0, 'UGC': 0, 'UUC': 0,\n",
    "    'UAG': 0, 'UCG': 0, 'UGG': 0, 'UUG': 0,\n",
    "    'UAT': 0, 'UCU': 0, 'UGU': 0, 'UUU': 0\n",
    "}\n",
    "\n",
    "DNAsequence = 'AATGGCTTTAAGGC'\n",
    "## add your code here\n",
    "\n",
    "\n",
    "\n",
    "for i in RNACodonTable:\n",
    "    print(\"{}: {}\".format(i, RNACodonTable[i]))"
   ]
  }
 ],
 "metadata": {
  "kernelspec": {
   "display_name": "Python 3",
   "language": "python",
   "name": "python3"
  },
  "language_info": {
   "codemirror_mode": {
    "name": "ipython",
    "version": 3
   },
   "file_extension": ".py",
   "mimetype": "text/x-python",
   "name": "python",
   "nbconvert_exporter": "python",
   "pygments_lexer": "ipython3",
   "version": "3.7.4"
  }
 },
 "nbformat": 4,
 "nbformat_minor": 2
}
